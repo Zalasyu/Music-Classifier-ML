{
 "cells": [
  {
   "cell_type": "raw",
   "metadata": {},
   "source": [
    "<script>\n",
    "code_show=true; \n",
    "function code_toggle() {\n",
    " if (code_show){\n",
    " $('div.input').hide();\n",
    " } else {\n",
    " $('div.input').show();\n",
    " }\n",
    " code_show = !code_show\n",
    "} \n",
    "$( document ).ready(code_toggle);\n",
    "</script>\n",
    "<form action=\"javascript:code_toggle()\"><input type=\"submit\" value=\"Click here to toggle on/off the raw code.\"></form>"
   ]
  },
  {
   "cell_type": "markdown",
   "metadata": {},
   "source": [
    "# Overview "
   ]
  },
  {
   "cell_type": "markdown",
   "metadata": {},
   "source": [
    "## Objective\n",
    "\n",
    "## Guiding Questions:\n",
    "1. \n",
    "2. \n",
    "3. \n",
    "\n",
    "## Key findings \n",
    "1. \n",
    "2. \n",
    "3. "
   ]
  },
  {
   "cell_type": "markdown",
   "metadata": {},
   "source": [
    "## Imports and setup"
   ]
  },
  {
   "cell_type": "code",
   "execution_count": 1,
   "metadata": {
    "ExecuteTime": {
     "end_time": "2019-02-22T23:24:54.758152Z",
     "start_time": "2019-02-22T23:24:52.721941Z"
    }
   },
   "outputs": [],
   "source": [
    "# must go first\n",
    "%matplotlib inline\n",
    "%config InlineBackend.figure_format='retina'\n",
    "\n",
    "# Reloads functions each time so you can edit a script \n",
    "# and not need to restart the kernel\n",
    "%load_ext autoreload\n",
    "%autoreload 2\n",
    "\n",
    "# plotting\n",
    "import matplotlib as mpl\n",
    "from matplotlib import pyplot as plt\n",
    "import seaborn as sns\n",
    "sns.set_context(\"poster\", font_scale=1.3)\n",
    "import folium\n",
    "\n",
    "import sys\n",
    "import os\n",
    "import datetime\n",
    "\n",
    "sns.set()\n",
    "sns.set_context('poster', font_scale=1.3)\n",
    "sns.set_style(\"white\")\n",
    "\n",
    "import warnings\n",
    "warnings.filterwarnings('ignore')\n",
    "\n",
    "# basic wrangling\n",
    "import numpy as np\n",
    "import yaml\n",
    "import json\n",
    "import re\n",
    "import pandas as pd\n",
    "\n",
    "# eda tools\n",
    "import pivottablejs\n",
    "import missingno as msno\n",
    "\n",
    "# Update matplotlib defaults to something nicer\n",
    "mpl_update = {\n",
    "    'font.size': 16,\n",
    "    'xtick.labelsize': 14,\n",
    "    'ytick.labelsize': 14,\n",
    "    'figure.figsize': [12.0, 8.0],\n",
    "    'axes.labelsize': 20,\n",
    "    'axes.labelcolor': '#677385',\n",
    "    'axes.titlesize': 20,\n",
    "    'lines.color': '#0055A7',\n",
    "    'lines.linewidth': 3,\n",
    "    'text.color': '#677385',\n",
    "    'font.family': 'sans-serif',\n",
    "    'font.sans-serif': 'Tahoma'\n",
    "}\n",
    "mpl.rcParams.update(mpl_update)"
   ]
  },
  {
   "cell_type": "code",
   "execution_count": 2,
   "metadata": {
    "ExecuteTime": {
     "end_time": "2019-02-22T23:24:55.390680Z",
     "start_time": "2019-02-22T23:24:55.344380Z"
    }
   },
   "outputs": [],
   "source": [
    "# Create helper functions for specifying paths and appending\n",
    "# directories with relevant python source code.\n",
    "# This is a lot at the top of your notebook but if you get the jupyter\n",
    "# extension for collapsing headings, you can always have this and the\n",
    "# imports collapsed\n",
    "\n",
    "root_dir = os.curdir\n",
    "max_nest = 10  # arbitrary, 3 would probably suffice\n",
    "nest = 0\n",
    "while \"src\" not in os.listdir(root_dir) and nest < max_nest:\n",
    "    # Look up the directory structure for a src directory\n",
    "    root_dir = os.path.join(os.pardir, root_dir)\n",
    "    nest += 1\n",
    "\n",
    "# If you don't find the src directory, the root directory is this directory\n",
    "root_dir = os.path.abspath(root_dir) if nest < max_nest else os.path.abspath(\n",
    "    os.curdir)\n",
    "\n",
    "# Get the source directory and append path to access\n",
    "# python packages/scripts within directory\n",
    "if \"src\" in os.listdir(root_dir):\n",
    "    src_dir = os.path.join(root_dir, \"src\")\n",
    "    sys.path.append(src_dir)\n",
    "\n",
    "# If data or figures directory don't exist in project directory,\n",
    "# they will be saved to this directory\n",
    "data_dir = os.path.join(\n",
    "    root_dir, \"data\") if \"data\" in os.listdir(root_dir) else os.curdir\n",
    "external_data_dir = os.path.join(\n",
    "    data_dir, \"external\") if \"external\" in os.listdir(data_dir) else os.curdir\n",
    "figure_dir = os.path.join(\n",
    "    root_dir,\n",
    "    \"figures\") if \"figures\" in os.listdir(root_dir) else os.curdir\n",
    "models_dir = os.path.join(\n",
    "    root_dir,\n",
    "    \"models\") if \"models\" in os.listdir(root_dir) else os.curdir\n",
    "\n",
    "# Prepends the directory path for specifying paths to data or figures\n",
    "# dataplus(\"data.csv\") -> \"/Users/cmawer/project/data/data.csv\"\n",
    "# figplus(\"cool.png\") -> \"/Users/cmawer/project/figures/cool.png\"\n",
    "dataplus = lambda x: os.path.join(data_dir, x)\n",
    "dataextplus = lambda x: os.path.join(external_data_dir, x)\n",
    "figplus = lambda x: os.path.join(figure_dir, x)\n",
    "modelsplus = lambda x: os.path.join(models_dir, x)\n",
    "\n",
    "# Prepends the date to a string (e.g. to save dated files)\n",
    "# dateplus(\"cool-figure.png\") -> \"2018-12-05-cool-figure.png\"\n",
    "now = datetime.datetime.now().strftime(\"%Y-%m-%d\")\n",
    "dateplus = lambda x: \"%s-%s\" % (now, x)"
   ]
  },
  {
   "cell_type": "code",
   "execution_count": 3,
   "metadata": {
    "ExecuteTime": {
     "end_time": "2018-12-06T21:57:13.226483Z",
     "start_time": "2018-12-06T21:57:13.222086Z"
    }
   },
   "outputs": [],
   "source": [
    "# ! git clone git@github.com:lineageanalytics/vishelper.git\n",
    "# ! cd vishelper \n",
    "# ! pip install . \n",
    "import vishelper as vh"
   ]
  },
  {
   "cell_type": "code",
   "execution_count": null,
   "metadata": {},
   "outputs": [],
   "source": [
    "# connect to databases \n",
    "import sqlalchemy as sql\n",
    "\n",
    "# sqltype = \"mysql+pymysql\"\n",
    "# database = \n",
    "# host =  \n",
    "# port = \n",
    "# user = os.environ.get('amazonRDS_user')\n",
    "# password = os.environ.get('amazonRDS_pw')\n",
    "\n",
    "# engine_string = \"{sqltype}://{username}:{password}@{host}:{port}/{database}\"\n",
    "# engine_string = engine_string.format(sqltype=sqltype, username=username,\n",
    "#                                      password=password, host=host, \n",
    "#                                      port=port, database=database)\n",
    "# conn = sqlalchemy.create_engine(engine_string)\n",
    "\n",
    "# %reload_ext sql_magic\n",
    "# %config SQL.conn_name = 'engine'\n",
    "# %config SQL.output_result = False  # disable browser notifications\n",
    "# %config SQL.notify_result= True # Browser notification when query finishes"
   ]
  },
  {
   "cell_type": "code",
   "execution_count": null,
   "metadata": {},
   "outputs": [],
   "source": [
    "# To convert to html with collapsible headings and table of contents\n",
    "# change filename and run cell\n",
    "filename = \"template.ipynb\"\n",
    "! jupyter nbconvert --to html_ch {filename} --template toc2"
   ]
  },
  {
   "cell_type": "markdown",
   "metadata": {},
   "source": [
    "# Data"
   ]
  },
  {
   "cell_type": "markdown",
   "metadata": {},
   "source": [
    "- **Raw file/table name:** `database.feature_table`\n",
    "- **Table generation date:** `2017-05-02`\n",
    "- **Description of data:** Features generate to describe users' first visits to the app, as developed in the prior notebook found [here](www.fakelink.com).\n",
    "- **Date range covered by data:** `2016-11-01` to `2017-05-02`\n",
    "- **Included population:** All visitors to application assosciated with a known value of `domain`, as of time of query. \n",
    "- **Associated query file:** `src/sql/generate_features.sql` ([view on GitHub](https://github.com/insertpath))"
   ]
  },
  {
   "cell_type": "code",
   "execution_count": null,
   "metadata": {},
   "outputs": [],
   "source": [
    "# To read file from project/data/\n",
    "df = pd.read_csv(dataplus(\"file-name.csv\"))"
   ]
  },
  {
   "cell_type": "code",
   "execution_count": null,
   "metadata": {},
   "outputs": [],
   "source": [
    "# To ingest data from SQL query\n",
    "table_name = \"table_name\""
   ]
  },
  {
   "cell_type": "code",
   "execution_count": null,
   "metadata": {},
   "outputs": [],
   "source": [
    "%%read_sql df -a\n",
    "SELECT *\n",
    "FROM \n",
    "    {table_name}\n",
    "LIMIT 5 "
   ]
  },
  {
   "cell_type": "markdown",
   "metadata": {},
   "source": [
    "# Analysis"
   ]
  },
  {
   "cell_type": "code",
   "execution_count": null,
   "metadata": {},
   "outputs": [],
   "source": []
  },
  {
   "cell_type": "markdown",
   "metadata": {},
   "source": [
    "# Conclusions"
   ]
  },
  {
   "cell_type": "markdown",
   "metadata": {},
   "source": [
    "## Decisions made\n",
    "\n",
    "## Key findings \n",
    "1. \n",
    "2. \n",
    "3. \n",
    "\n",
    "## Next steps\n",
    "1. \n",
    "2. "
   ]
  },
  {
   "cell_type": "markdown",
   "metadata": {},
   "source": [
    "# Appendix"
   ]
  },
  {
   "cell_type": "markdown",
   "metadata": {},
   "source": [
    "## Watermark \n",
    "For full reproducibility of results, use exact data extraction as defined at top of notebook and ensure that the environment is exactly as follows: "
   ]
  },
  {
   "cell_type": "code",
   "execution_count": 15,
   "metadata": {
    "ExecuteTime": {
     "end_time": "2018-12-06T00:13:31.035260Z",
     "start_time": "2018-12-06T00:13:30.984210Z"
    },
    "scrolled": false
   },
   "outputs": [
    {
     "name": "stdout",
     "output_type": "stream",
     "text": [
      "matplotlib  2.2.3\n",
      "seaborn     0.9.0\n",
      "folium      0.7.0\n",
      "numpy       1.15.1\n",
      "yaml        3.13\n",
      "json        2.0.9\n",
      "re          2.2.1\n",
      "pandas      0.23.4\n",
      "missingno   0.4.1\n",
      "CPython 3.6.7\n",
      "IPython 7.2.0\n",
      "\n",
      "compiler   : GCC 4.2.1 Compatible Apple LLVM 9.0.0 (clang-900.0.37)\n",
      "system     : Darwin\n",
      "release    : 17.7.0\n",
      "machine    : x86_64\n",
      "processor  : i386\n",
      "CPU cores  : 12\n",
      "interpreter: 64bit\n",
      "Git hash   :\n"
     ]
    }
   ],
   "source": [
    "# ! pip install watermark\n",
    "%load_ext watermark\n",
    "%watermark -v -m --iversions -g"
   ]
  },
  {
   "cell_type": "markdown",
   "metadata": {},
   "source": [
    "<center>© <a href=\"http://lineagelogistics.com\">2019 Lineage Logistics</a></center>"
   ]
  }
 ],
 "metadata": {
  "kernelspec": {
   "display_name": "Python 3",
   "language": "python",
   "name": "python3"
  },
  "language_info": {
   "codemirror_mode": {
    "name": "ipython",
    "version": 3
   },
   "file_extension": ".py",
   "mimetype": "text/x-python",
   "name": "python",
   "nbconvert_exporter": "python",
   "pygments_lexer": "ipython3",
   "version": "3.6.7"
  },
  "latex_envs": {
   "LaTeX_envs_menu_present": true,
   "autoclose": false,
   "autocomplete": true,
   "bibliofile": "biblio.bib",
   "cite_by": "apalike",
   "current_citInitial": 1.0,
   "eqLabelWithNumbers": true,
   "eqNumInitial": 1.0,
   "hotkeys": {
    "equation": "Ctrl-E",
    "itemize": "Ctrl-I"
   },
   "labels_anchors": false,
   "latex_user_defs": false,
   "report_style_numbering": false,
   "user_envs_cfg": false
  },
  "toc": {
   "base_numbering": 1.0,
   "nav_menu": {},
   "number_sections": true,
   "sideBar": true,
   "skip_h1_title": false,
   "title_cell": "Table of Contents",
   "title_sidebar": "Contents",
   "toc_cell": false,
   "toc_position": {},
   "toc_section_display": true,
   "toc_window_display": true
  },
  "varInspector": {
   "cols": {
    "lenName": 16.0,
    "lenType": 16.0,
    "lenVar": 40.0
   },
   "kernels_config": {
    "python": {
     "delete_cmd_postfix": "",
     "delete_cmd_prefix": "del ",
     "library": "var_list.py",
     "varRefreshCmd": "print(var_dic_list())"
    },
    "r": {
     "delete_cmd_postfix": ") ",
     "delete_cmd_prefix": "rm(",
     "library": "var_list.r",
     "varRefreshCmd": "cat(var_dic_list()) "
    }
   },
   "types_to_exclude": [
    "module",
    "function",
    "builtin_function_or_method",
    "instance",
    "_Feature"
   ],
   "window_display": false
  }
 },
 "nbformat": 4,
 "nbformat_minor": 2
}
